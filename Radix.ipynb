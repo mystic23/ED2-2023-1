{
  "nbformat": 4,
  "nbformat_minor": 0,
  "metadata": {
    "colab": {
      "provenance": [],
      "authorship_tag": "ABX9TyMQj39R7rgMItTVwIeCbC2b",
      "include_colab_link": true
    },
    "kernelspec": {
      "name": "python3",
      "display_name": "Python 3"
    },
    "language_info": {
      "name": "python"
    }
  },
  "cells": [
    {
      "cell_type": "markdown",
      "metadata": {
        "id": "view-in-github",
        "colab_type": "text"
      },
      "source": [
        "<a href=\"https://colab.research.google.com/github/mystic23/ED2-2023-1/blob/main/Radix.ipynb\" target=\"_parent\"><img src=\"https://colab.research.google.com/assets/colab-badge.svg\" alt=\"Open In Colab\"/></a>"
      ]
    },
    {
      "cell_type": "markdown",
      "source": [
        "Codigo mi amorcito del arreglo del tamaño para el algoritmo radix"
      ],
      "metadata": {
        "id": "ytVeKOvaX3vh"
      }
    },
    {
      "cell_type": "code",
      "execution_count": 5,
      "metadata": {
        "colab": {
          "base_uri": "https://localhost:8080/"
        },
        "id": "XvMZqsV1W30v",
        "outputId": "a79ce10e-1843-474a-804e-bd8df6032a1f"
      },
      "outputs": [
        {
          "output_type": "stream",
          "name": "stdout",
          "text": [
            "['0001', '0022', '0333', '0444', '5555']\n"
          ]
        }
      ],
      "source": [
        "def radix(vec : list):\n",
        "  max_A = max(vec)\n",
        "  vec = [str(i) for i in vec]\n",
        "  for i in range(len(vec)):\n",
        "    tamaño = len(vec[i])\n",
        "    while tamaño < len(str(max_A)):\n",
        "      vec[i]='0'+vec[i]\n",
        "      tamaño = len(vec[i])\n",
        "  return vec\n",
        "\n",
        "A = [ 1,22,333,444,5555]\n",
        "print(radix(A))"
      ]
    }
  ]
}