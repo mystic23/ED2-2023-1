{
  "nbformat": 4,
  "nbformat_minor": 0,
  "metadata": {
    "colab": {
      "provenance": [],
      "authorship_tag": "ABX9TyMjIrNLtB3oBz+jFVnM2iY4",
      "include_colab_link": true
    },
    "kernelspec": {
      "name": "python3",
      "display_name": "Python 3"
    },
    "language_info": {
      "name": "python"
    }
  },
  "cells": [
    {
      "cell_type": "markdown",
      "metadata": {
        "id": "view-in-github",
        "colab_type": "text"
      },
      "source": [
        "<a href=\"https://colab.research.google.com/github/mystic23/ED2-2023-1/blob/main/Radix.ipynb\" target=\"_parent\"><img src=\"https://colab.research.google.com/assets/colab-badge.svg\" alt=\"Open In Colab\"/></a>"
      ]
    },
    {
      "cell_type": "markdown",
      "source": [
        "Codigo mi amorcito del arreglo del tamaño para el algoritmo radix"
      ],
      "metadata": {
        "id": "ytVeKOvaX3vh"
      }
    },
    {
      "cell_type": "code",
      "execution_count": 24,
      "metadata": {
        "colab": {
          "base_uri": "https://localhost:8080/"
        },
        "id": "XvMZqsV1W30v",
        "outputId": "10bb7bf5-7875-44d3-b082-01c2ec4c1bd6"
      },
      "outputs": [
        {
          "output_type": "stream",
          "name": "stdout",
          "text": [
            "['0001', '0022', '0333', '0444', '5555']\n"
          ]
        }
      ],
      "source": [
        "def radix(vec : list):\n",
        "  max_A = max(vec)\n",
        "  vec = [str(i) for i in vec]\n",
        "  for i in range(len(vec)):\n",
        "    tamaño = len(vec[i])\n",
        "    while tamaño < len(str(max_A)):\n",
        "      vec[i]='0'+vec[i]\n",
        "      tamaño = len(vec[i])\n",
        "  return vec\n",
        "\n",
        "A = [ 1,22,333,444,5555]\n",
        "B  = radix(A)\n",
        "print(B[::1])"
      ]
    },
    {
      "cell_type": "code",
      "source": [
        "A = [1,2,3]\n",
        "A[::-1]\n",
        "print(A[::-1])\n",
        "##primer : muestra el for el segundo : es decirle llega al final y el ultimo parametro es decirle a que pasoq uiere que vaya el for"
      ],
      "metadata": {
        "colab": {
          "base_uri": "https://localhost:8080/"
        },
        "id": "iHJ0NL0RY6sw",
        "outputId": "16fcf090-583a-48ad-cd20-0459edec1648"
      },
      "execution_count": 20,
      "outputs": [
        {
          "output_type": "stream",
          "name": "stdout",
          "text": [
            "[3, 2, 1]\n"
          ]
        }
      ]
    },
    {
      "cell_type": "markdown",
      "source": [
        "Aqui hago la vaina esta de radix"
      ],
      "metadata": {
        "id": "wJ6rlrZXam6c"
      }
    },
    {
      "cell_type": "code",
      "source": [
        "A = [325,418,128,56]\n",
        "for i in range(A):\n",
        "  try:\n",
        "    f[f'{A[i]}' in ]\n",
        "  except:"
      ],
      "metadata": {
        "id": "71ZfFb0HapGy"
      },
      "execution_count": null,
      "outputs": []
    }
  ]
}